{
 "cells": [
  {
   "cell_type": "code",
   "execution_count": null,
   "metadata": {},
   "outputs": [],
   "source": [
    "#Asteroide a 49 km/s"
   ]
  },
  {
   "cell_type": "code",
   "execution_count": 4,
   "metadata": {},
   "outputs": [
    {
     "name": "stdout",
     "output_type": "stream",
     "text": [
      "Se acerca un asteroide a: 49Km/s\n"
     ]
    }
   ],
   "source": [
    "vel_asteroide = 49\n",
    "\n",
    "if vel_asteroide > 25:\n",
    "    print(\"Se acerca un asteroide a: \" + str(vel_asteroide) + \" Km/s\")    \n",
    "else:\n",
    "    print(\"No hay pedo\")"
   ]
  },
  {
   "cell_type": "markdown",
   "metadata": {},
   "source": [
    "# Asteroide con rayo de luz"
   ]
  },
  {
   "cell_type": "code",
   "execution_count": 9,
   "metadata": {},
   "outputs": [
    {
     "name": "stdout",
     "output_type": "stream",
     "text": [
      "Un rayo de luz!!, se acerca un asteroide a: 20 km/s\n"
     ]
    }
   ],
   "source": [
    "vel_asteroide = 20\n",
    "\n",
    "if vel_asteroide > 20:\n",
    "    print(\"Un rayo de luz!!, se acerca un asteroide a: \" + str(vel_asteroide) + \" km/s\")\n",
    "\n",
    "elif vel_asteroide == 20:\n",
    "    print(\"Un rayo de luz!!, se acerca un asteroide a: \" + str(vel_asteroide) + \" km/s\")\n",
    "\n",
    "else:\n",
    "    print(\"Nada en el cielo, ten un buen día\")"
   ]
  },
  {
   "cell_type": "markdown",
   "metadata": {},
   "source": [
    "# Clasificacion de asteroides"
   ]
  },
  {
   "cell_type": "code",
   "execution_count": 17,
   "metadata": {},
   "outputs": [
    {
     "name": "stdout",
     "output_type": "stream",
     "text": [
      "Un asteroide se acerca a la tierra a una velocidad de: 25 Km/s\n"
     ]
    }
   ],
   "source": [
    "vel_asteroide = 25\n",
    "tamaño_asteroide = 1001\n",
    "\n",
    "if vel_asteroide >= 20 and tamaño_asteroide >= 25 and tamaño_asteroide <= 1000:\n",
    "    print(\"Un rayo de luz es visible en el cielo\")\n",
    "\n",
    "elif vel_asteroide >= 25:\n",
    "    print(\"Un asteroide se acerca a la tierra a una velocidad de: \" + str(vel_asteroide) + \" Km/s\")\n",
    "else:\n",
    "    print(\"Ten un buen día\")        "
   ]
  }
 ],
 "metadata": {
  "interpreter": {
   "hash": "63fd5069d213b44bf678585dea6b12cceca9941eaf7f819626cde1f2670de90d"
  },
  "kernelspec": {
   "display_name": "Python 3.9.2 64-bit",
   "language": "python",
   "name": "python3"
  },
  "language_info": {
   "codemirror_mode": {
    "name": "ipython",
    "version": 3
   },
   "file_extension": ".py",
   "mimetype": "text/x-python",
   "name": "python",
   "nbconvert_exporter": "python",
   "pygments_lexer": "ipython3",
   "version": "3.9.2"
  },
  "orig_nbformat": 4
 },
 "nbformat": 4,
 "nbformat_minor": 2
}
