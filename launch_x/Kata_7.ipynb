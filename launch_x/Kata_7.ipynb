{
 "cells": [
  {
   "cell_type": "code",
   "execution_count": 6,
   "metadata": {},
   "outputs": [],
   "source": [
    "#Kata 7\n",
    "#Ejercicio 1 - Bucle while\n",
    "#Declara dos variables\n",
    "\n",
    "new_planet = ''\n",
    "planets = []"
   ]
  },
  {
   "cell_type": "code",
   "execution_count": 7,
   "metadata": {},
   "outputs": [
    {
     "name": "stdout",
     "output_type": "stream",
     "text": [
      "['tierra', 'marte', 'urano']\n"
     ]
    }
   ],
   "source": [
    "while new_planet.lower() != 'done':\n",
    "    if new_planet:\n",
    "       planets.append(new_planet)\n",
    "    new_planet = input('Añada un nuevo planeta o escribe done cuando termines')   \n",
    "print(planets)         \n",
    "    "
   ]
  },
  {
   "cell_type": "code",
   "execution_count": 9,
   "metadata": {},
   "outputs": [
    {
     "name": "stdout",
     "output_type": "stream",
     "text": [
      "tierra\n",
      "marte\n",
      "urano\n",
      "Final\n"
     ]
    }
   ],
   "source": [
    "#Ejercicio 2 - Ciclo for\n",
    "from time import sleep\n",
    "\n",
    "for number in planets:\n",
    "    print(number)\n",
    "\n",
    "    sleep(1)\n",
    "print(\"Final\")    "
   ]
  }
 ],
 "metadata": {
  "interpreter": {
   "hash": "63fd5069d213b44bf678585dea6b12cceca9941eaf7f819626cde1f2670de90d"
  },
  "kernelspec": {
   "display_name": "Python 3.9.2 64-bit",
   "language": "python",
   "name": "python3"
  },
  "language_info": {
   "codemirror_mode": {
    "name": "ipython",
    "version": 3
   },
   "file_extension": ".py",
   "mimetype": "text/x-python",
   "name": "python",
   "nbconvert_exporter": "python",
   "pygments_lexer": "ipython3",
   "version": "3.9.2"
  },
  "orig_nbformat": 4
 },
 "nbformat": 4,
 "nbformat_minor": 2
}
