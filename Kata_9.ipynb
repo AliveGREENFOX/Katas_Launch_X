{
 "cells": [
  {
   "cell_type": "code",
   "execution_count": 12,
   "metadata": {},
   "outputs": [],
   "source": [
    "#Kata_9\n",
    "#Ejercicio 1 - Argumentos en funciones\n",
    "def combustible(tanque1, tanque2, tanque3):\n",
    "    average_fuel = (tanque1 + tanque2 + tanque3)/3\n",
    "    return print(\"Reporte de combustible: \\n\",\"Hidrogeno:\" ,tanque1,\"\\n Diesel:\" ,tanque2,\"\\n Carbon:\" ,tanque3, \"\\n Promedio de combustible:\",average_fuel)    \n",
    "\n"
   ]
  },
  {
   "cell_type": "code",
   "execution_count": 13,
   "metadata": {},
   "outputs": [
    {
     "name": "stdout",
     "output_type": "stream",
     "text": [
      "Reporte de combustible: \n",
      " Hidrogeno: 10 \n",
      " Diesel: 5 \n",
      " Carbon: 15 \n",
      " Promedio de combustible: 10.0\n"
     ]
    }
   ],
   "source": [
    "#Llamamos a la funcion\n",
    "combustible(10, 5, 15)"
   ]
  },
  {
   "cell_type": "code",
   "execution_count": 16,
   "metadata": {},
   "outputs": [
    {
     "data": {
      "text/plain": [
       "53.333333333333336"
      ]
     },
     "execution_count": 16,
     "metadata": {},
     "output_type": "execute_result"
    }
   ],
   "source": [
    "#Funcion de promedio\n",
    "def average(valores):\n",
    "    total = sum(valores)\n",
    "    n_items = len(valores)\n",
    "    return total/n_items\n",
    "\n",
    "average([10, 50, 100])"
   ]
  },
  {
   "cell_type": "code",
   "execution_count": 19,
   "metadata": {},
   "outputs": [
    {
     "name": "stdout",
     "output_type": "stream",
     "text": [
      "Reporte de combustible: \n",
      " Hidrogeno: 10 \n",
      " Diesel: 5 \n",
      " Carbon: 15 \n",
      " Promedio de combustible: 10.0\n"
     ]
    }
   ],
   "source": [
    "#Nueva version de funcion\n",
    "def combustible(tanque1, tanque2, tanque3):    \n",
    "    return print(\"Reporte de combustible: \\n\",\"Hidrogeno:\" ,tanque1,\"\\n Diesel:\" ,tanque2,\"\\n Carbon:\" ,tanque3, \"\\n Promedio de combustible:\",average([tanque1, tanque2, tanque3]))  \n",
    "combustible(10, 5, 15)"
   ]
  },
  {
   "cell_type": "code",
   "execution_count": 20,
   "metadata": {},
   "outputs": [
    {
     "name": "stdout",
     "output_type": "stream",
     "text": [
      "Tiempo antes de vuelo: 14 \n",
      " Tiempo de vuelo: 51 \n",
      " Destino: Luna \n",
      " Tanque externo: 2000 \n",
      " Tanque interno: 3000\n"
     ]
    }
   ],
   "source": [
    "#Ejercicio 2 - Argumentos de palabra clave en funciones\n",
    "def informe_mision(pre_vuelo, tiempo_vuelo, destino, tanque_externo, tanque_interno):\n",
    "    return print(\"Tiempo antes de vuelo:\", pre_vuelo,\n",
    "    \"\\n Tiempo de vuelo:\", tiempo_vuelo,\n",
    "    \"\\n Destino:\", destino,\n",
    "    \"\\n Tanque externo:\", tanque_externo,\n",
    "    \"\\n Tanque interno:\", tanque_interno)\n",
    "\n",
    "informe_mision(14, 51, \"Luna\", 2000, 3000)"
   ]
  },
  {
   "cell_type": "code",
   "execution_count": 22,
   "metadata": {},
   "outputs": [
    {
     "name": "stdout",
     "output_type": "stream",
     "text": [
      "Destino a: Jupiter \n",
      " Tiempo de viaje:  76 \n",
      " Reservas de combustible totales: 15000\n"
     ]
    }
   ],
   "source": [
    "#Nueva funcion de pre vuelo\n",
    "def reporte_mision(destino, *tiempos, **combustibles):\n",
    "    return print(\"Destino a:\", destino,\n",
    "    \"\\n Tiempo de viaje: \", sum(tiempos),\n",
    "    \"\\n Reservas de combustible totales:\", sum(combustibles.values()))\n",
    "reporte_mision(\"Jupiter\", 10, 15, 51, Hidrogeno = 5000, Diesel = 10000)"
   ]
  },
  {
   "cell_type": "code",
   "execution_count": 43,
   "metadata": {},
   "outputs": [
    {
     "name": "stdout",
     "output_type": "stream",
     "text": [
      "\n",
      "    Destino: Jupiter\n",
      "    Tiempo de llegada: 400\n",
      "    Combustibles: 750\n",
      "    Hidrogeno 250 litros\n",
      "Diesel 500 litros\n",
      "\n"
     ]
    }
   ],
   "source": [
    "def reporte_mision_2(destino, *tiempos, **gas):\n",
    "\n",
    "    reporte_terminado = f\"\"\"\n",
    "    Destino: {destino}\n",
    "    Tiempo de llegada: {sum(tiempos)}\n",
    "    Combustibles: {sum(gas.values())}\n",
    "    \"\"\"\n",
    "    for t_combustible, litros in gas.items():\n",
    "        reporte_terminado += f\"{t_combustible} {litros} litros\\n\"\n",
    "\n",
    "    return reporte_terminado\n",
    "\n",
    "print(reporte_mision_2(\"Jupiter\", 50, 100, 250, Hidrogeno = 250, Diesel = 500))"
   ]
  }
 ],
 "metadata": {
  "interpreter": {
   "hash": "63fd5069d213b44bf678585dea6b12cceca9941eaf7f819626cde1f2670de90d"
  },
  "kernelspec": {
   "display_name": "Python 3.9.2 64-bit",
   "language": "python",
   "name": "python3"
  },
  "language_info": {
   "codemirror_mode": {
    "name": "ipython",
    "version": 3
   },
   "file_extension": ".py",
   "mimetype": "text/x-python",
   "name": "python",
   "nbconvert_exporter": "python",
   "pygments_lexer": "ipython3",
   "version": "3.9.2"
  },
  "orig_nbformat": 4
 },
 "nbformat": 4,
 "nbformat_minor": 2
}
