{
 "cells": [
  {
   "cell_type": "code",
   "execution_count": 7,
   "metadata": {},
   "outputs": [
    {
     "name": "stdout",
     "output_type": "stream",
     "text": [
      "['Mercurio', 'Venus', 'Tierra', 'Marte', 'Jupiter', 'Saturno', 'Urano', 'Neptuno']\n",
      "Existen: 8 Planetas\n"
     ]
    }
   ],
   "source": [
    "#Kata 6\n",
    "#Ejercicio 1\n",
    "planets = [\"Mercurio\", \"Venus\", \"Tierra\", \"Marte\", \"Jupiter\", \"Saturno\", \"Urano\", \"Neptuno\"]\n",
    "print(planets)\n",
    "print(\"Existen:\", len(planets), \"Planetas\")"
   ]
  },
  {
   "cell_type": "code",
   "execution_count": 9,
   "metadata": {},
   "outputs": [
    {
     "name": "stdout",
     "output_type": "stream",
     "text": [
      "Numero de planetas: 10\n",
      "Pluton\n"
     ]
    }
   ],
   "source": [
    "planets.append(\"Pluton\")\n",
    "print(\"Numero de planetas: \" + str(len(planets)))\n",
    "print(planets[-1])"
   ]
  },
  {
   "cell_type": "code",
   "execution_count": 17,
   "metadata": {},
   "outputs": [],
   "source": [
    "#Ejercicio 2\n",
    "planets = [\"Mercurio\", \"Venus\", \"Tierra\", \"Marte\", \"Jupiter\", \"Saturno\", \"Neptuno\"]"
   ]
  },
  {
   "cell_type": "code",
   "execution_count": 18,
   "metadata": {},
   "outputs": [
    {
     "name": "stdout",
     "output_type": "stream",
     "text": [
      "1\n"
     ]
    }
   ],
   "source": [
    "#Busca el planeta en la lista\n",
    "selection = input(\"Escoja un planeta, use una mayuscula al inicio\")\n",
    "planet_index = planets.index(selection)\n",
    "print(planet_index)"
   ]
  },
  {
   "cell_type": "code",
   "execution_count": 19,
   "metadata": {},
   "outputs": [
    {
     "name": "stdout",
     "output_type": "stream",
     "text": [
      "['Mercurio']\n"
     ]
    }
   ],
   "source": [
    "#Mostramos los planetas mas cercanos al Sol\n",
    "planets_closer = planets[0:planet_index]\n",
    "print(planets_closer)"
   ]
  },
  {
   "cell_type": "code",
   "execution_count": 20,
   "metadata": {},
   "outputs": [
    {
     "name": "stdout",
     "output_type": "stream",
     "text": [
      "['Tierra', 'Marte', 'Jupiter', 'Saturno']\n"
     ]
    }
   ],
   "source": [
    "#Planetas más alejados del Sol\n",
    "planets_farter = planets[planet_index + 1:-1]\n",
    "print(planets_farter)"
   ]
  }
 ],
 "metadata": {
  "interpreter": {
   "hash": "63fd5069d213b44bf678585dea6b12cceca9941eaf7f819626cde1f2670de90d"
  },
  "kernelspec": {
   "display_name": "Python 3.9.2 64-bit",
   "language": "python",
   "name": "python3"
  },
  "language_info": {
   "codemirror_mode": {
    "name": "ipython",
    "version": 3
   },
   "file_extension": ".py",
   "mimetype": "text/x-python",
   "name": "python",
   "nbconvert_exporter": "python",
   "pygments_lexer": "ipython3",
   "version": "3.9.2"
  },
  "orig_nbformat": 4
 },
 "nbformat": 4,
 "nbformat_minor": 2
}
